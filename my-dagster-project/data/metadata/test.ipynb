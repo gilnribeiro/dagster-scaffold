{
 "cells": [
  {
   "cell_type": "code",
   "execution_count": 1,
   "metadata": {},
   "outputs": [],
   "source": [
    "import polars as pl\n",
    "import numpy as np\n",
    "\n",
    "\n",
    "# Function to generate the initial dataset\n",
    "def transform_data(n_rows: int) -> pl.DataFrame:\n",
    "    \"\"\"\n",
    "    Generates a random dataset with n_rows and performs initial transformations.\n",
    "\n",
    "    Parameters:\n",
    "        n_rows (int): The number of rows in the dataset.\n",
    "\n",
    "    Returns:\n",
    "        pl.DataFrame: A Polars DataFrame with added columns.\n",
    "    \"\"\"\n",
    "    df = pl.read_csv(\n",
    "        \"C:/Users/gilnr/OneDrive/Ambiente de Trabalho/ITC Contract/GitHub/Dagster_Scaffold/my-dagster-project/data/SFTP/smoker_data.csv\"\n",
    "    )\n",
    "\n",
    "    # Transformation: Adding BMI (Body Mass Index) column\n",
    "    df = df.with_columns((df[\"weight_kg\"] / (df[\"height_cm\"] / 100) ** 2).alias(\"bmi\"))\n",
    "\n",
    "    # Transformation: Adding a category for age groups\n",
    "    df = df.with_columns(\n",
    "        pl.when(df[\"age\"] < 30)\n",
    "        .then(\"Young\")\n",
    "        .when(df[\"age\"] < 60)\n",
    "        .then(\"Middle-aged\")\n",
    "        .otherwise(\"Senior\")\n",
    "        .alias(\"age_group\")\n",
    "    )\n",
    "\n",
    "    return df\n",
    "\n",
    "\n",
    "# Function to generate a third dataset for mapping codes to words\n",
    "def generate_relation_table() -> pl.DataFrame:\n",
    "    \"\"\"\n",
    "    Generates a small relation table mapping codes to words.\n",
    "\n",
    "    Returns:\n",
    "        pl.DataFrame: A Polars DataFrame representing the relation table.\n",
    "    \"\"\"\n",
    "    data = {\"code\": [1, 2, 3, 4], \"description\": [\"Low\", \"Medium\", \"High\", \"Very High\"]}\n",
    "\n",
    "    return pl.DataFrame(data)\n",
    "\n",
    "\n",
    "# Function to perform transformations based on a relation table\n",
    "def map_code_to_description(\n",
    "    df: pl.DataFrame, relation_table: pl.DataFrame\n",
    ") -> pl.DataFrame:\n",
    "    \"\"\"\n",
    "    Maps a random code to a description using a relation table and performs transformations.\n",
    "\n",
    "    Parameters:\n",
    "        df (pl.DataFrame): The original DataFrame to be transformed.\n",
    "        relation_table (pl.DataFrame): A mapping DataFrame (relation table).\n",
    "\n",
    "    Returns:\n",
    "        pl.DataFrame: The DataFrame with new transformations applied.\n",
    "    \"\"\"\n",
    "    # Add a random code column to the original DataFrame\n",
    "    df = df.with_columns(np.random.choice([1, 2, 3, 4], df.height).alias(\"risk_code\"))\n",
    "\n",
    "    # Join the relation table based on the 'risk_code' to add descriptions\n",
    "    df = df.join(relation_table, left_on=\"risk_code\", right_on=\"code\", how=\"left\")\n",
    "\n",
    "    return df"
   ]
  },
  {
   "cell_type": "code",
   "execution_count": 2,
   "metadata": {},
   "outputs": [
    {
     "data": {
      "text/plain": [
       "<xlsxwriter.workbook.Workbook at 0x15196af6640>"
      ]
     },
     "execution_count": 2,
     "metadata": {},
     "output_type": "execute_result"
    }
   ],
   "source": [
    "df = generate_relation_table()\n",
    "df.write_excel(\"hight_metadata.xlsx\")"
   ]
  }
 ],
 "metadata": {
  "kernelspec": {
   "display_name": "dagster-venv1",
   "language": "python",
   "name": "python3"
  },
  "language_info": {
   "codemirror_mode": {
    "name": "ipython",
    "version": 3
   },
   "file_extension": ".py",
   "mimetype": "text/x-python",
   "name": "python",
   "nbconvert_exporter": "python",
   "pygments_lexer": "ipython3",
   "version": "3.9.1"
  }
 },
 "nbformat": 4,
 "nbformat_minor": 2
}
