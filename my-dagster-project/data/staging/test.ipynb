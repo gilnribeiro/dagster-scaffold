{
 "cells": [
  {
   "cell_type": "code",
   "execution_count": 4,
   "metadata": {},
   "outputs": [],
   "source": [
    "import duckdb\n",
    "from dagster import EnvVar\n",
    "from dagster_duckdb import DuckDBResource"
   ]
  },
  {
   "cell_type": "code",
   "execution_count": 2,
   "metadata": {},
   "outputs": [],
   "source": [
    "create_table_query = \"\"\"\n",
    "        CREATE TABLE IF NOT EXISTS WorkflowDetails (\n",
    "            task TEXT,\n",
    "            description TEXT,\n",
    "            status TEXT,\n",
    "            comment TEXT\n",
    "        );\n",
    "        INSERT INTO WorkflowDetails (task, description, status, comment) \n",
    "        VALUES (?, ?, ?, ?);\n",
    "        \"\"\"\n",
    "\n",
    "# conn = duckdb.connect(\"data.duckdb\")"
   ]
  },
  {
   "cell_type": "code",
   "execution_count": 3,
   "metadata": {},
   "outputs": [],
   "source": [
    "with DuckDBResource(\n",
    "    database=EnvVar(\"DUCKDB_DATABASE\"),\n",
    ").get_connection() as conn:\n",
    "    # Create table if it doesn't exist\n",
    "    # Insert the provided task details into the WorkflowDetails table\n",
    "    conn.execute(create_table_query, (\"ATO\", \"Testing the table\", \"Success\", \"\"))"
   ]
  },
  {
   "cell_type": "code",
   "execution_count": 5,
   "metadata": {},
   "outputs": [
    {
     "name": "stdout",
     "output_type": "stream",
     "text": [
      "┌───────────────────────────┬─────────────────────────────────────────────┬─────────┬─────────┐\n",
      "│           task            │                 description                 │ status  │ comment │\n",
      "│          varchar          │                   varchar                   │ varchar │ varchar │\n",
      "├───────────────────────────┼─────────────────────────────────────────────┼─────────┼─────────┤\n",
      "│ Load Country Files        │ Get files from SFTP and move them to Input. │ Success │         │\n",
      "│ Perform BMI harmonization │ Harmonize BMI data.                         │ Success │         │\n",
      "│ Perform AGE harmonization │ Harmonize AGE data.                         │ Success │         │\n",
      "│ Export Data               │ Export data to csv output                   │ Success │         │\n",
      "└───────────────────────────┴─────────────────────────────────────────────┴─────────┴─────────┘\n",
      "\n"
     ]
    }
   ],
   "source": [
    "from my_dagster_project.constants import DUCKDB_DATABASE\n",
    "\n",
    "conn = duckdb.connect(DUCKDB_DATABASE)\n",
    "conn.sql(\"select * from WorkflowDetails\").show()"
   ]
  },
  {
   "cell_type": "code",
   "execution_count": 3,
   "metadata": {},
   "outputs": [],
   "source": [
    "conn.close()"
   ]
  }
 ],
 "metadata": {
  "kernelspec": {
   "display_name": "dagster-venv1",
   "language": "python",
   "name": "python3"
  },
  "language_info": {
   "codemirror_mode": {
    "name": "ipython",
    "version": 3
   },
   "file_extension": ".py",
   "mimetype": "text/x-python",
   "name": "python",
   "nbconvert_exporter": "python",
   "pygments_lexer": "ipython3",
   "version": "3.9.1"
  }
 },
 "nbformat": 4,
 "nbformat_minor": 2
}
